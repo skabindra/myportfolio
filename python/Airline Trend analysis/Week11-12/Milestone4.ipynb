{
 "cells": [
  {
   "cell_type": "code",
   "execution_count": 3,
   "id": "f14f580f",
   "metadata": {},
   "outputs": [],
   "source": [
    "import matplotlib.pyplot as plt\n",
    "from datetime import datetime, timedelta\n",
    "from matplotlib import dates as mpl_dates\n",
    "import pandas as pd\n",
    "import seaborn as sns"
   ]
  },
  {
   "cell_type": "code",
   "execution_count": 5,
   "id": "1b1419d0",
   "metadata": {},
   "outputs": [],
   "source": [
    "data = pd.read_csv('ICAO_accidents.csv')"
   ]
  },
  {
   "cell_type": "code",
   "execution_count": 6,
   "id": "3beedaf9",
   "metadata": {},
   "outputs": [
    {
     "data": {
      "text/html": [
       "<div>\n",
       "<style scoped>\n",
       "    .dataframe tbody tr th:only-of-type {\n",
       "        vertical-align: middle;\n",
       "    }\n",
       "\n",
       "    .dataframe tbody tr th {\n",
       "        vertical-align: top;\n",
       "    }\n",
       "\n",
       "    .dataframe thead th {\n",
       "        text-align: right;\n",
       "    }\n",
       "</style>\n",
       "<table border=\"1\" class=\"dataframe\">\n",
       "  <thead>\n",
       "    <tr style=\"text-align: right;\">\n",
       "      <th></th>\n",
       "      <th>Unnamed: 0</th>\n",
       "      <th>Date</th>\n",
       "      <th>StateOfOccurrence</th>\n",
       "      <th>Location</th>\n",
       "      <th>Model</th>\n",
       "      <th>Registration</th>\n",
       "      <th>Operator</th>\n",
       "      <th>StateOfOperator</th>\n",
       "      <th>StateOfRegistry</th>\n",
       "      <th>FlightPhase</th>\n",
       "      <th>...</th>\n",
       "      <th>InjuryLevel</th>\n",
       "      <th>TypeDesignator</th>\n",
       "      <th>Helicopter</th>\n",
       "      <th>Airplane</th>\n",
       "      <th>Engines</th>\n",
       "      <th>EngineType</th>\n",
       "      <th>Official</th>\n",
       "      <th>OccCats</th>\n",
       "      <th>Risk</th>\n",
       "      <th>Year</th>\n",
       "    </tr>\n",
       "  </thead>\n",
       "  <tbody>\n",
       "    <tr>\n",
       "      <th>0</th>\n",
       "      <td>0</td>\n",
       "      <td>\"2008-01-02T00:00:00.000Z\"</td>\n",
       "      <td>PHL</td>\n",
       "      <td>Masbate Airport (MBT)</td>\n",
       "      <td>NAMC YS11 A</td>\n",
       "      <td>RP-C3592</td>\n",
       "      <td>Philippines Asian Spirit</td>\n",
       "      <td>PHL</td>\n",
       "      <td>PHL</td>\n",
       "      <td>Landing</td>\n",
       "      <td>...</td>\n",
       "      <td>None</td>\n",
       "      <td>YS11</td>\n",
       "      <td>NaN</td>\n",
       "      <td>True</td>\n",
       "      <td>2</td>\n",
       "      <td>Turboprop</td>\n",
       "      <td>True</td>\n",
       "      <td>[\"RE\"]</td>\n",
       "      <td>RS</td>\n",
       "      <td>2008</td>\n",
       "    </tr>\n",
       "    <tr>\n",
       "      <th>1</th>\n",
       "      <td>1</td>\n",
       "      <td>\"2008-01-02T00:00:00.000Z\"</td>\n",
       "      <td>IRN</td>\n",
       "      <td>Tehran-Mehrabad Airport (THR)</td>\n",
       "      <td>FOKKER F27 100</td>\n",
       "      <td>EP-IDB</td>\n",
       "      <td>Iran, Islamic Republic Of Iran National Airlin...</td>\n",
       "      <td>IRN</td>\n",
       "      <td>IRN</td>\n",
       "      <td>Take-off</td>\n",
       "      <td>...</td>\n",
       "      <td>None</td>\n",
       "      <td>F27</td>\n",
       "      <td>NaN</td>\n",
       "      <td>True</td>\n",
       "      <td>2</td>\n",
       "      <td>Turboprop</td>\n",
       "      <td>True</td>\n",
       "      <td>[\"F-POST\",\"ICE\"]</td>\n",
       "      <td>OTH</td>\n",
       "      <td>2008</td>\n",
       "    </tr>\n",
       "    <tr>\n",
       "      <th>2</th>\n",
       "      <td>2</td>\n",
       "      <td>\"2008-01-03T00:00:00.000Z\"</td>\n",
       "      <td>USA</td>\n",
       "      <td>Oklahoma City</td>\n",
       "      <td>PILATUS PC12</td>\n",
       "      <td>N398J</td>\n",
       "      <td>NaN</td>\n",
       "      <td>NaN</td>\n",
       "      <td>USA</td>\n",
       "      <td>Standing</td>\n",
       "      <td>...</td>\n",
       "      <td>Fatal</td>\n",
       "      <td>PC12</td>\n",
       "      <td>False</td>\n",
       "      <td>True</td>\n",
       "      <td>1</td>\n",
       "      <td>Turboprop</td>\n",
       "      <td>NaN</td>\n",
       "      <td>[\"RAMP\"]</td>\n",
       "      <td>RS</td>\n",
       "      <td>2008</td>\n",
       "    </tr>\n",
       "    <tr>\n",
       "      <th>3</th>\n",
       "      <td>3</td>\n",
       "      <td>\"2008-01-04T00:00:00.000Z\"</td>\n",
       "      <td>VEN</td>\n",
       "      <td>A 20 NM del VOR del Gran Roque</td>\n",
       "      <td>LET L410 UVP</td>\n",
       "      <td>YV2081</td>\n",
       "      <td>Venezuela</td>\n",
       "      <td>VEN</td>\n",
       "      <td>VEN</td>\n",
       "      <td>En route</td>\n",
       "      <td>...</td>\n",
       "      <td>Fatal</td>\n",
       "      <td>L410</td>\n",
       "      <td>NaN</td>\n",
       "      <td>True</td>\n",
       "      <td>2</td>\n",
       "      <td>Turboprop</td>\n",
       "      <td>True</td>\n",
       "      <td>[\"SCF-PP\"]</td>\n",
       "      <td>SCF</td>\n",
       "      <td>2008</td>\n",
       "    </tr>\n",
       "    <tr>\n",
       "      <th>4</th>\n",
       "      <td>4</td>\n",
       "      <td>\"2008-01-05T00:00:00.000Z\"</td>\n",
       "      <td>USA</td>\n",
       "      <td>Kodiak</td>\n",
       "      <td>PIPER PA31P 350</td>\n",
       "      <td>N509FN</td>\n",
       "      <td>NaN</td>\n",
       "      <td>NaN</td>\n",
       "      <td>USA</td>\n",
       "      <td>Take-off</td>\n",
       "      <td>...</td>\n",
       "      <td>Fatal</td>\n",
       "      <td>PA47</td>\n",
       "      <td>False</td>\n",
       "      <td>True</td>\n",
       "      <td>1</td>\n",
       "      <td>Jet</td>\n",
       "      <td>NaN</td>\n",
       "      <td>[\"LOC-I\",\"SCF-NP\"]</td>\n",
       "      <td>LOC-I</td>\n",
       "      <td>2008</td>\n",
       "    </tr>\n",
       "  </tbody>\n",
       "</table>\n",
       "<p>5 rows × 25 columns</p>\n",
       "</div>"
      ],
      "text/plain": [
       "   Unnamed: 0                        Date StateOfOccurrence  \\\n",
       "0           0  \"2008-01-02T00:00:00.000Z\"               PHL   \n",
       "1           1  \"2008-01-02T00:00:00.000Z\"               IRN   \n",
       "2           2  \"2008-01-03T00:00:00.000Z\"               USA   \n",
       "3           3  \"2008-01-04T00:00:00.000Z\"               VEN   \n",
       "4           4  \"2008-01-05T00:00:00.000Z\"               USA   \n",
       "\n",
       "                         Location            Model Registration  \\\n",
       "0           Masbate Airport (MBT)      NAMC YS11 A     RP-C3592   \n",
       "1   Tehran-Mehrabad Airport (THR)   FOKKER F27 100       EP-IDB   \n",
       "2                   Oklahoma City     PILATUS PC12        N398J   \n",
       "3  A 20 NM del VOR del Gran Roque     LET L410 UVP       YV2081   \n",
       "4                          Kodiak  PIPER PA31P 350       N509FN   \n",
       "\n",
       "                                            Operator StateOfOperator  \\\n",
       "0                           Philippines Asian Spirit             PHL   \n",
       "1  Iran, Islamic Republic Of Iran National Airlin...             IRN   \n",
       "2                                                NaN             NaN   \n",
       "3                                         Venezuela              VEN   \n",
       "4                                                NaN             NaN   \n",
       "\n",
       "  StateOfRegistry FlightPhase  ... InjuryLevel  TypeDesignator  Helicopter  \\\n",
       "0             PHL     Landing  ...        None            YS11         NaN   \n",
       "1             IRN    Take-off  ...        None             F27         NaN   \n",
       "2             USA    Standing  ...       Fatal            PC12       False   \n",
       "3             VEN    En route  ...       Fatal            L410         NaN   \n",
       "4             USA    Take-off  ...       Fatal            PA47       False   \n",
       "\n",
       "  Airplane Engines EngineType Official             OccCats   Risk  Year  \n",
       "0     True       2  Turboprop     True              [\"RE\"]     RS  2008  \n",
       "1     True       2  Turboprop     True    [\"F-POST\",\"ICE\"]    OTH  2008  \n",
       "2     True       1  Turboprop      NaN            [\"RAMP\"]     RS  2008  \n",
       "3     True       2  Turboprop     True          [\"SCF-PP\"]    SCF  2008  \n",
       "4     True       1        Jet      NaN  [\"LOC-I\",\"SCF-NP\"]  LOC-I  2008  \n",
       "\n",
       "[5 rows x 25 columns]"
      ]
     },
     "execution_count": 6,
     "metadata": {},
     "output_type": "execute_result"
    }
   ],
   "source": [
    "data.head()"
   ]
  },
  {
   "cell_type": "code",
   "execution_count": 7,
   "id": "aa3222bf",
   "metadata": {},
   "outputs": [
    {
     "name": "stdout",
     "output_type": "stream",
     "text": [
      "<class 'pandas.core.frame.DataFrame'>\n",
      "RangeIndex: 6109 entries, 0 to 6108\n",
      "Data columns (total 25 columns):\n",
      " #   Column               Non-Null Count  Dtype  \n",
      "---  ------               --------------  -----  \n",
      " 0   Unnamed: 0           6109 non-null   int64  \n",
      " 1   Date                 6109 non-null   object \n",
      " 2   StateOfOccurrence    5307 non-null   object \n",
      " 3   Location             5758 non-null   object \n",
      " 4   Model                5866 non-null   object \n",
      " 5   Registration         6109 non-null   object \n",
      " 6   Operator             4184 non-null   object \n",
      " 7   StateOfOperator      1391 non-null   object \n",
      " 8   StateOfRegistry      6107 non-null   object \n",
      " 9   FlightPhase          5175 non-null   object \n",
      " 10  Class                6109 non-null   object \n",
      " 11  Fatalities           4968 non-null   float64\n",
      " 12  Over2250             6109 non-null   bool   \n",
      " 13  Over5700             6085 non-null   object \n",
      " 14  ScheduledCommercial  3277 non-null   object \n",
      " 15  InjuryLevel          4154 non-null   object \n",
      " 16  TypeDesignator       6109 non-null   object \n",
      " 17  Helicopter           4881 non-null   object \n",
      " 18  Airplane             6109 non-null   bool   \n",
      " 19  Engines              6109 non-null   int64  \n",
      " 20  EngineType           6109 non-null   object \n",
      " 21  Official             1344 non-null   object \n",
      " 22  OccCats              6109 non-null   object \n",
      " 23  Risk                 5359 non-null   object \n",
      " 24  Year                 6109 non-null   int64  \n",
      "dtypes: bool(2), float64(1), int64(3), object(19)\n",
      "memory usage: 1.1+ MB\n"
     ]
    }
   ],
   "source": [
    "data.info()"
   ]
  },
  {
   "cell_type": "markdown",
   "id": "e0e53875",
   "metadata": {},
   "source": [
    "### Data Prep Steps"
   ]
  },
  {
   "cell_type": "code",
   "execution_count": 8,
   "id": "e205976c",
   "metadata": {},
   "outputs": [
    {
     "data": {
      "text/plain": [
       "Index(['Unnamed: 0', 'Date', 'StateOfOccurrence', 'Location', 'Model',\n",
       "       'Registration', 'Operator', 'StateOfOperator', 'StateOfRegistry',\n",
       "       'FlightPhase', 'Class', 'Fatalities', 'Over2250', 'Over5700',\n",
       "       'ScheduledCommercial', 'InjuryLevel', 'TypeDesignator', 'Helicopter',\n",
       "       'Airplane', 'Engines', 'EngineType', 'Official', 'OccCats', 'Risk',\n",
       "       'Year'],\n",
       "      dtype='object')"
      ]
     },
     "execution_count": 8,
     "metadata": {},
     "output_type": "execute_result"
    }
   ],
   "source": [
    "##Drop Unwanted columns\n",
    "data.columns"
   ]
  },
  {
   "cell_type": "code",
   "execution_count": 9,
   "id": "0cb7c930",
   "metadata": {},
   "outputs": [],
   "source": [
    "data = data.drop(columns= ['Date','StateOfOccurrence','Location','Model',\n",
    "                           'Registration','Operator','StateOfOperator','StateOfRegistry',\n",
    "                           'Over2250','Over5700','Class','ScheduledCommercial','TypeDesignator',\n",
    "                           'Helicopter',\n",
    "                           'Airplane','Engines','EngineType','Official','OccCats'])"
   ]
  },
  {
   "cell_type": "code",
   "execution_count": 10,
   "id": "d21e85e1",
   "metadata": {},
   "outputs": [
    {
     "data": {
      "text/html": [
       "<div>\n",
       "<style scoped>\n",
       "    .dataframe tbody tr th:only-of-type {\n",
       "        vertical-align: middle;\n",
       "    }\n",
       "\n",
       "    .dataframe tbody tr th {\n",
       "        vertical-align: top;\n",
       "    }\n",
       "\n",
       "    .dataframe thead th {\n",
       "        text-align: right;\n",
       "    }\n",
       "</style>\n",
       "<table border=\"1\" class=\"dataframe\">\n",
       "  <thead>\n",
       "    <tr style=\"text-align: right;\">\n",
       "      <th></th>\n",
       "      <th>Unnamed: 0</th>\n",
       "      <th>FlightPhase</th>\n",
       "      <th>Fatalities</th>\n",
       "      <th>InjuryLevel</th>\n",
       "      <th>Risk</th>\n",
       "      <th>Year</th>\n",
       "    </tr>\n",
       "  </thead>\n",
       "  <tbody>\n",
       "    <tr>\n",
       "      <th>0</th>\n",
       "      <td>0</td>\n",
       "      <td>Landing</td>\n",
       "      <td>0.0</td>\n",
       "      <td>None</td>\n",
       "      <td>RS</td>\n",
       "      <td>2008</td>\n",
       "    </tr>\n",
       "    <tr>\n",
       "      <th>1</th>\n",
       "      <td>1</td>\n",
       "      <td>Take-off</td>\n",
       "      <td>0.0</td>\n",
       "      <td>None</td>\n",
       "      <td>OTH</td>\n",
       "      <td>2008</td>\n",
       "    </tr>\n",
       "    <tr>\n",
       "      <th>2</th>\n",
       "      <td>2</td>\n",
       "      <td>Standing</td>\n",
       "      <td>1.0</td>\n",
       "      <td>Fatal</td>\n",
       "      <td>RS</td>\n",
       "      <td>2008</td>\n",
       "    </tr>\n",
       "    <tr>\n",
       "      <th>3</th>\n",
       "      <td>3</td>\n",
       "      <td>En route</td>\n",
       "      <td>14.0</td>\n",
       "      <td>Fatal</td>\n",
       "      <td>SCF</td>\n",
       "      <td>2008</td>\n",
       "    </tr>\n",
       "    <tr>\n",
       "      <th>4</th>\n",
       "      <td>4</td>\n",
       "      <td>Take-off</td>\n",
       "      <td>6.0</td>\n",
       "      <td>Fatal</td>\n",
       "      <td>LOC-I</td>\n",
       "      <td>2008</td>\n",
       "    </tr>\n",
       "  </tbody>\n",
       "</table>\n",
       "</div>"
      ],
      "text/plain": [
       "   Unnamed: 0 FlightPhase  Fatalities InjuryLevel   Risk  Year\n",
       "0           0     Landing         0.0        None     RS  2008\n",
       "1           1    Take-off         0.0        None    OTH  2008\n",
       "2           2    Standing         1.0       Fatal     RS  2008\n",
       "3           3    En route        14.0       Fatal    SCF  2008\n",
       "4           4    Take-off         6.0       Fatal  LOC-I  2008"
      ]
     },
     "execution_count": 10,
     "metadata": {},
     "output_type": "execute_result"
    }
   ],
   "source": [
    "data.head()"
   ]
  },
  {
   "cell_type": "code",
   "execution_count": 14,
   "id": "f6c35913",
   "metadata": {},
   "outputs": [
    {
     "name": "stdout",
     "output_type": "stream",
     "text": [
      "    Year  Total_accidents\n",
      "0   2008              732\n",
      "1   2009              555\n",
      "2   2010              932\n",
      "3   2011              746\n",
      "4   2012              274\n",
      "5   2013              334\n",
      "6   2014              386\n",
      "7   2015              308\n",
      "8   2016              433\n",
      "9   2017              338\n",
      "10  2018              334\n",
      "11  2019              336\n",
      "12  2020              188\n",
      "13  2021              169\n",
      "14  2022               44\n"
     ]
    }
   ],
   "source": [
    "df = data.groupby(['Year']).size().reset_index(name='Total_accidents')\n",
    "print(df)\n"
   ]
  },
  {
   "cell_type": "code",
   "execution_count": 15,
   "id": "7df7fac3",
   "metadata": {},
   "outputs": [
    {
     "data": {
      "text/plain": [
       "<AxesSubplot:xlabel='Year', ylabel='Total_accidents'>"
      ]
     },
     "execution_count": 15,
     "metadata": {},
     "output_type": "execute_result"
    },
    {
     "data": {
      "image/png": "[encoded data removed]",
      "text/plain": [
       "<Figure size 432x288 with 1 Axes>"
      ]
     },
     "metadata": {
      "needs_background": "light"
     },
     "output_type": "display_data"
    }
   ],
   "source": [
    "sns.lineplot(data=df,x=df.Year,y=df.Total_accidents)"
   ]
  },
  {
   "cell_type": "code",
   "execution_count": 16,
   "id": "88e840a1",
   "metadata": {},
   "outputs": [],
   "source": [
    "newdf = df.dropna()"
   ]
  },
  {
   "cell_type": "code",
   "execution_count": 17,
   "id": "9f0e9e77",
   "metadata": {},
   "outputs": [
    {
     "data": {
      "text/html": [
       "<div>\n",
       "<style scoped>\n",
       "    .dataframe tbody tr th:only-of-type {\n",
       "        vertical-align: middle;\n",
       "    }\n",
       "\n",
       "    .dataframe tbody tr th {\n",
       "        vertical-align: top;\n",
       "    }\n",
       "\n",
       "    .dataframe thead th {\n",
       "        text-align: right;\n",
       "    }\n",
       "</style>\n",
       "<table border=\"1\" class=\"dataframe\">\n",
       "  <thead>\n",
       "    <tr style=\"text-align: right;\">\n",
       "      <th></th>\n",
       "      <th>Year</th>\n",
       "      <th>Total_accidents</th>\n",
       "    </tr>\n",
       "  </thead>\n",
       "  <tbody>\n",
       "    <tr>\n",
       "      <th>0</th>\n",
       "      <td>2008</td>\n",
       "      <td>732</td>\n",
       "    </tr>\n",
       "    <tr>\n",
       "      <th>1</th>\n",
       "      <td>2009</td>\n",
       "      <td>555</td>\n",
       "    </tr>\n",
       "    <tr>\n",
       "      <th>2</th>\n",
       "      <td>2010</td>\n",
       "      <td>932</td>\n",
       "    </tr>\n",
       "    <tr>\n",
       "      <th>3</th>\n",
       "      <td>2011</td>\n",
       "      <td>746</td>\n",
       "    </tr>\n",
       "    <tr>\n",
       "      <th>4</th>\n",
       "      <td>2012</td>\n",
       "      <td>274</td>\n",
       "    </tr>\n",
       "  </tbody>\n",
       "</table>\n",
       "</div>"
      ],
      "text/plain": [
       "   Year  Total_accidents\n",
       "0  2008              732\n",
       "1  2009              555\n",
       "2  2010              932\n",
       "3  2011              746\n",
       "4  2012              274"
      ]
     },
     "execution_count": 17,
     "metadata": {},
     "output_type": "execute_result"
    }
   ],
   "source": [
    "newdf.head()"
   ]
  },
  {
   "cell_type": "code",
   "execution_count": 42,
   "id": "cd982fe5",
   "metadata": {},
   "outputs": [
    {
     "data": {
      "text/plain": [
       "15"
      ]
     },
     "execution_count": 42,
     "metadata": {},
     "output_type": "execute_result"
    }
   ],
   "source": [
    "len(newdf)"
   ]
  },
  {
   "cell_type": "code",
   "execution_count": 1,
   "id": "c7f36414",
   "metadata": {},
   "outputs": [],
   "source": [
    "from statsmodels.graphics.tsaplots import plot_acf,plot_pacf"
   ]
  },
  {
   "cell_type": "code",
   "execution_count": 22,
   "id": "03f61434",
   "metadata": {},
   "outputs": [],
   "source": [
    "newdf['firstdiff'] = newdf['Total_accidents'].diff(1)"
   ]
  },
  {
   "cell_type": "code",
   "execution_count": 24,
   "id": "b7e2e6c4",
   "metadata": {},
   "outputs": [
    {
     "data": {
      "image/png": "[encoded data removed]",
      "text/plain": [
       "<Figure size 432x288 with 1 Axes>"
      ]
     },
     "execution_count": 24,
     "metadata": {},
     "output_type": "execute_result"
    },
    {
     "data": {
      "image/png": "[encoded data removed]",
      "text/plain": [
       "<Figure size 432x288 with 1 Axes>"
      ]
     },
     "metadata": {
      "needs_background": "light"
     },
     "output_type": "display_data"
    }
   ],
   "source": [
    "plot_pacf(newdf['firstdiff'].dropna(),lags=2)"
   ]
  },
  {
   "cell_type": "code",
   "execution_count": 43,
   "id": "6a286c14",
   "metadata": {},
   "outputs": [],
   "source": [
    "##Split this data into a training and test set. \n",
    "##Use the last year of data (July 2020 – June 2021) of data as your test \n",
    "#set and the rest as your training set.\n",
    "len(data.index)\n",
    "df_train=newdf.iloc[:10]\n",
    "df_test = newdf.iloc[10:]"
   ]
  },
  {
   "cell_type": "code",
   "execution_count": 44,
   "id": "cfd295aa",
   "metadata": {},
   "outputs": [],
   "source": [
    "##Use the model to predict the monthly retail sales on the last year of data.\n",
    "from statsmodels.tsa.statespace.sarimax import SARIMAX"
   ]
  },
  {
   "cell_type": "code",
   "execution_count": 46,
   "id": "1ecd9a60",
   "metadata": {},
   "outputs": [],
   "source": [
    "model= SARIMAX(df_train['Total_accidents'], \n",
    " order=(1,1,1),\n",
    " enforce_invertibility=False, enforce_stationarity=False)"
   ]
  },
  {
   "cell_type": "code",
   "execution_count": 47,
   "id": "d448950e",
   "metadata": {},
   "outputs": [
    {
     "name": "stdout",
     "output_type": "stream",
     "text": [
      "RUNNING THE L-BFGS-B CODE\n",
      "\n",
      "           * * *\n",
      "\n",
      "Machine precision = 2.220D-16\n",
      " N =            2     M =           10\n",
      "\n",
      "At X0         0 variables are exactly at the bounds\n",
      "\n",
      "At iterate    0    f=  5.08357D+00    |proj g|=  8.94720D-02\n",
      "\n",
      "At iterate    5    f=  4.80021D+00    |proj g|=  2.10095D-01\n",
      "\n",
      "At iterate   10    f=  4.70439D+00    |proj g|=  3.10118D-03\n"
     ]
    },
    {
     "name": "stderr",
     "output_type": "stream",
     "text": [
      " This problem is unconstrained.\n"
     ]
    },
    {
     "name": "stdout",
     "output_type": "stream",
     "text": [
      "\n",
      "At iterate   15    f=  4.70438D+00    |proj g|=  9.35261D-06\n",
      "\n",
      "           * * *\n",
      "\n",
      "Tit   = total number of iterations\n",
      "Tnf   = total number of function evaluations\n",
      "Tnint = total number of segments explored during Cauchy searches\n",
      "Skip  = number of BFGS updates skipped\n",
      "Nact  = number of active bounds at final generalized Cauchy point\n",
      "Projg = norm of the final projected gradient\n",
      "F     = final function value\n",
      "\n",
      "           * * *\n",
      "\n",
      "   N    Tit     Tnf  Tnint  Skip  Nact     Projg        F\n",
      "    2     15     21      1     0     0   9.353D-06   4.704D+00\n",
      "  F =   4.7043816778283993     \n",
      "\n",
      "CONVERGENCE: NORM_OF_PROJECTED_GRADIENT_<=_PGTOL            \n"
     ]
    }
   ],
   "source": [
    "result = model.fit()"
   ]
  },
  {
   "cell_type": "code",
   "execution_count": 48,
   "id": "c3585c1c",
   "metadata": {},
   "outputs": [
    {
     "name": "stdout",
     "output_type": "stream",
     "text": [
      "                               SARIMAX Results                                \n",
      "==============================================================================\n",
      "Dep. Variable:        Total_accidents   No. Observations:                   10\n",
      "Model:               SARIMAX(0, 1, 1)   Log Likelihood                 -47.044\n",
      "Date:                Tue, 07 Feb 2023   AIC                             98.088\n",
      "Time:                        20:15:26   BIC                             97.979\n",
      "Sample:                             0   HQIC                            96.751\n",
      "                                 - 10                                         \n",
      "Covariance Type:                  opg                                         \n",
      "==============================================================================\n",
      "                 coef    std err          z      P>|z|      [0.025      0.975]\n",
      "------------------------------------------------------------------------------\n",
      "ma.L1         -0.2961      0.804     -0.368      0.713      -1.872       1.280\n",
      "sigma2      4.021e+04   1.45e+04      2.764      0.006    1.17e+04    6.87e+04\n",
      "===================================================================================\n",
      "Ljung-Box (L1) (Q):                   0.01   Jarque-Bera (JB):                 2.70\n",
      "Prob(Q):                              0.92   Prob(JB):                         0.26\n",
      "Heteroskedasticity (H):               0.06   Skew:                            -1.42\n",
      "Prob(H) (two-sided):                  0.11   Kurtosis:                         4.09\n",
      "===================================================================================\n",
      "\n",
      "Warnings:\n",
      "[1] Covariance matrix calculated using the outer product of gradients (complex-step).\n"
     ]
    }
   ],
   "source": [
    "print(result.summary())"
   ]
  },
  {
   "cell_type": "code",
   "execution_count": 50,
   "id": "1f154319",
   "metadata": {},
   "outputs": [],
   "source": [
    "final_predict = pd.DataFrame(result.predict(start=len(df_train),end = len(newdf)-1))"
   ]
  },
  {
   "cell_type": "code",
   "execution_count": 51,
   "id": "8c9a6314",
   "metadata": {},
   "outputs": [
    {
     "name": "stderr",
     "output_type": "stream",
     "text": [
      "/var/folders/jd/05jr366d0jn13pfs71x7v06w0000gn/T/ipykernel_64845/297076127.py:1: UserWarning: Pandas doesn't allow columns to be created via a new attribute name - see https://pandas.pydata.org/pandas-docs/stable/indexing.html#attribute-access\n",
      "  final_predict.column=['pred']\n"
     ]
    }
   ],
   "source": [
    "final_predict.column=['pred']"
   ]
  },
  {
   "cell_type": "code",
   "execution_count": 52,
   "id": "4a6a2a5f",
   "metadata": {},
   "outputs": [
    {
     "data": {
      "text/html": [
       "<div>\n",
       "<style scoped>\n",
       "    .dataframe tbody tr th:only-of-type {\n",
       "        vertical-align: middle;\n",
       "    }\n",
       "\n",
       "    .dataframe tbody tr th {\n",
       "        vertical-align: top;\n",
       "    }\n",
       "\n",
       "    .dataframe thead th {\n",
       "        text-align: right;\n",
       "    }\n",
       "</style>\n",
       "<table border=\"1\" class=\"dataframe\">\n",
       "  <thead>\n",
       "    <tr style=\"text-align: right;\">\n",
       "      <th></th>\n",
       "      <th>predicted_mean</th>\n",
       "    </tr>\n",
       "  </thead>\n",
       "  <tbody>\n",
       "    <tr>\n",
       "      <th>10</th>\n",
       "      <td>356.993447</td>\n",
       "    </tr>\n",
       "    <tr>\n",
       "      <th>11</th>\n",
       "      <td>356.993447</td>\n",
       "    </tr>\n",
       "    <tr>\n",
       "      <th>12</th>\n",
       "      <td>356.993447</td>\n",
       "    </tr>\n",
       "    <tr>\n",
       "      <th>13</th>\n",
       "      <td>356.993447</td>\n",
       "    </tr>\n",
       "    <tr>\n",
       "      <th>14</th>\n",
       "      <td>356.993447</td>\n",
       "    </tr>\n",
       "  </tbody>\n",
       "</table>\n",
       "</div>"
      ],
      "text/plain": [
       "    predicted_mean\n",
       "10      356.993447\n",
       "11      356.993447\n",
       "12      356.993447\n",
       "13      356.993447\n",
       "14      356.993447"
      ]
     },
     "execution_count": 52,
     "metadata": {},
     "output_type": "execute_result"
    }
   ],
   "source": [
    "final_predict"
   ]
  },
  {
   "cell_type": "code",
   "execution_count": 53,
   "id": "e67c676a",
   "metadata": {},
   "outputs": [],
   "source": [
    "final_data = pd.concat((final_predict,df_test),axis=1)"
   ]
  },
  {
   "cell_type": "code",
   "execution_count": 54,
   "id": "89c842e7",
   "metadata": {},
   "outputs": [
    {
     "data": {
      "text/html": [
       "<div>\n",
       "<style scoped>\n",
       "    .dataframe tbody tr th:only-of-type {\n",
       "        vertical-align: middle;\n",
       "    }\n",
       "\n",
       "    .dataframe tbody tr th {\n",
       "        vertical-align: top;\n",
       "    }\n",
       "\n",
       "    .dataframe thead th {\n",
       "        text-align: right;\n",
       "    }\n",
       "</style>\n",
       "<table border=\"1\" class=\"dataframe\">\n",
       "  <thead>\n",
       "    <tr style=\"text-align: right;\">\n",
       "      <th></th>\n",
       "      <th>predicted_mean</th>\n",
       "      <th>Year</th>\n",
       "      <th>Total_accidents</th>\n",
       "    </tr>\n",
       "  </thead>\n",
       "  <tbody>\n",
       "    <tr>\n",
       "      <th>10</th>\n",
       "      <td>356.993447</td>\n",
       "      <td>2018</td>\n",
       "      <td>334</td>\n",
       "    </tr>\n",
       "    <tr>\n",
       "      <th>11</th>\n",
       "      <td>356.993447</td>\n",
       "      <td>2019</td>\n",
       "      <td>336</td>\n",
       "    </tr>\n",
       "    <tr>\n",
       "      <th>12</th>\n",
       "      <td>356.993447</td>\n",
       "      <td>2020</td>\n",
       "      <td>188</td>\n",
       "    </tr>\n",
       "    <tr>\n",
       "      <th>13</th>\n",
       "      <td>356.993447</td>\n",
       "      <td>2021</td>\n",
       "      <td>169</td>\n",
       "    </tr>\n",
       "    <tr>\n",
       "      <th>14</th>\n",
       "      <td>356.993447</td>\n",
       "      <td>2022</td>\n",
       "      <td>44</td>\n",
       "    </tr>\n",
       "  </tbody>\n",
       "</table>\n",
       "</div>"
      ],
      "text/plain": [
       "    predicted_mean  Year  Total_accidents\n",
       "10      356.993447  2018              334\n",
       "11      356.993447  2019              336\n",
       "12      356.993447  2020              188\n",
       "13      356.993447  2021              169\n",
       "14      356.993447  2022               44"
      ]
     },
     "execution_count": 54,
     "metadata": {},
     "output_type": "execute_result"
    }
   ],
   "source": [
    "final_data.head()"
   ]
  },
  {
   "cell_type": "code",
   "execution_count": 56,
   "id": "ff609770",
   "metadata": {},
   "outputs": [],
   "source": [
    "from sklearn.metrics import mean_squared_error\n",
    "from math import sqrt\n",
    "\n",
    "rms = sqrt(mean_squared_error(final_predict['predicted_mean'].values,\n",
    "                              df_test['Total_accidents'].values))"
   ]
  },
  {
   "cell_type": "code",
   "execution_count": 57,
   "id": "97c684ca",
   "metadata": {},
   "outputs": [
    {
     "name": "stdout",
     "output_type": "stream",
     "text": [
      "180.46309434976877\n"
     ]
    }
   ],
   "source": [
    "print(rms)"
   ]
  },
  {
   "cell_type": "code",
   "execution_count": null,
   "id": "984f7a7b",
   "metadata": {},
   "outputs": [],
   "source": [
    "## Outcome and conclusion"
   ]
  },
  {
   "cell_type": "code",
   "execution_count": null,
   "id": "8aeb9d77",
   "metadata": {},
   "outputs": [],
   "source": [
    "The dataset had to go through lot of cleaning process and still the dataset \n",
    "is not a static one. and becasue of that the model outcome for RMS is pretty \n",
    "high . I believe we need to take other factors into account while building \n",
    "the model and instead of the taking the actual numbers for the year, we \n",
    "should have more breakdown of the numbers based on the monthly or daily \n",
    "data where we could have calculated the moving average and standard deviation \n",
    "and that could have given a better result.\n",
    "\n",
    "An RMSE of 100 and more indicates that the model has a large discrepancy \n",
    "between its predictions and the actual values.\n",
    "\n",
    "A high RMSE can indicate a few things, such as:\n",
    "\n",
    "Overfitting: The model may have memorized the training data too well and \n",
    "is not generalizing well to new data.\n",
    "Outliers: There may be some outliers in the data that are affecting the \n",
    "model's performance.\n",
    "\n",
    "\n",
    "In conclusion, if the RMSE of a predictive model is 100 and more, \n",
    "it's important to analyze the causes and make adjustments to improve the \n",
    "model's performance. This may involve collecting more data, using a \n",
    "different model, or using a combination of models. The goal is to achieve\n",
    "a lower RMSE that indicates a closer match between the predicted and actual \n",
    "values.\n"
   ]
  }
 ],
 "metadata": {
  "kernelspec": {
   "display_name": "Python 3 (ipykernel)",
   "language": "python",
   "name": "python3"
  },
  "language_info": {
   "codemirror_mode": {
    "name": "ipython",
    "version": 3
   },
   "file_extension": ".py",
   "mimetype": "text/x-python",
   "name": "python",
   "nbconvert_exporter": "python",
   "pygments_lexer": "ipython3",
   "version": "3.9.7"
  }
 },
 "nbformat": 4,
 "nbformat_minor": 5
}
