{
 "cells": [
  {
   "cell_type": "code",
   "execution_count": 19,
   "id": "417040d2",
   "metadata": {},
   "outputs": [],
   "source": [
    "# Model configuration\n",
    "img_width, img_height = 28, 28\n",
    "batch_size = 250\n",
    "no_epochs = 25\n",
    "no_classes = 10\n",
    "validation_split = 0.2\n",
    "verbosity = 1"
   ]
  },
  {
   "cell_type": "code",
   "execution_count": 20,
   "id": "30a618ce",
   "metadata": {},
   "outputs": [],
   "source": [
    "import tensorflow\n",
    "from tensorflow.keras.datasets import mnist\n",
    "from tensorflow.keras.models import Sequential\n",
    "from tensorflow.keras.layers import Dense, Dropout, Flatten\n",
    "from tensorflow.keras.layers import Conv2D, MaxPooling2D"
   ]
  },
  {
   "cell_type": "code",
   "execution_count": 21,
   "id": "1e91680f",
   "metadata": {},
   "outputs": [],
   "source": [
    "# Load MNIST dataset\n",
    "(input_train, target_train), (input_test, target_test) = mnist.load_data()"
   ]
  },
  {
   "cell_type": "code",
   "execution_count": 22,
   "id": "ac434035",
   "metadata": {},
   "outputs": [],
   "source": [
    "# Reshape data \n",
    "input_train = input_train.reshape(input_train.shape[0], img_width, img_height, 1)\n",
    "input_test = input_test.reshape(input_test.shape[0], img_width, img_height, 1)\n",
    "input_shape = (img_width, img_height, 1) \n",
    "\n",
    "# Parse numbers as floats\n",
    "input_train = input_train.astype('float32')\n",
    "input_test = input_test.astype('float32')\n",
    "\n",
    "# Convert into [0, 1] range.\n",
    "input_train = input_train / 255\n",
    "input_test = input_test / 255\n",
    "\n",
    "# Convert target vectors to categorical targets\n",
    "target_train = tensorflow.keras.utils.to_categorical(target_train, no_classes)\n",
    "target_test = tensorflow.keras.utils.to_categorical(target_test, no_classes)"
   ]
  },
  {
   "cell_type": "code",
   "execution_count": 30,
   "id": "e32ee8ce",
   "metadata": {},
   "outputs": [],
   "source": [
    "# Create the model\n",
    "model = Sequential()\n",
    "model.add(Conv2D(32, kernel_size=(3, 3), activation='relu', input_shape=input_shape))\n",
    "model.add(MaxPooling2D(pool_size=(2, 2)))\n",
    "model.add(Dropout(0.25))\n",
    "model.add(Conv2D(64, kernel_size=(3, 3), activation='relu'))\n",
    "model.add(MaxPooling2D(pool_size=(2, 2)))\n",
    "model.add(Dropout(0.25))\n",
    "model.add(Flatten())\n",
    "model.add(Dense(256, activation='relu'))\n",
    "model.add(Dense(no_classes, activation='softmax'))"
   ]
  },
  {
   "cell_type": "code",
   "execution_count": 7,
   "id": "749833d3",
   "metadata": {},
   "outputs": [],
   "source": [
    "# Compile the model\n",
    "model.compile(loss=tensorflow.keras.losses.categorical_crossentropy,\n",
    "              optimizer=tensorflow.keras.optimizers.Adam(),\n",
    "              metrics=['accuracy'])"
   ]
  },
  {
   "cell_type": "code",
   "execution_count": 8,
   "id": "f3c2321e",
   "metadata": {},
   "outputs": [
    {
     "name": "stdout",
     "output_type": "stream",
     "text": [
      "Epoch 1/25\n",
      "192/192 [==============================] - 48s 247ms/step - loss: 0.3495 - accuracy: 0.8944 - val_loss: 0.0994 - val_accuracy: 0.9707\n",
      "Epoch 2/25\n",
      "192/192 [==============================] - 83s 432ms/step - loss: 0.0978 - accuracy: 0.9699 - val_loss: 0.0602 - val_accuracy: 0.9824\n",
      "Epoch 3/25\n",
      "192/192 [==============================] - 78s 406ms/step - loss: 0.0687 - accuracy: 0.9782 - val_loss: 0.0510 - val_accuracy: 0.9852\n",
      "Epoch 4/25\n",
      "192/192 [==============================] - 88s 461ms/step - loss: 0.0553 - accuracy: 0.9827 - val_loss: 0.0450 - val_accuracy: 0.9857\n",
      "Epoch 5/25\n",
      "192/192 [==============================] - 62s 321ms/step - loss: 0.0475 - accuracy: 0.9846 - val_loss: 0.0365 - val_accuracy: 0.9895\n",
      "Epoch 6/25\n",
      "192/192 [==============================] - 62s 321ms/step - loss: 0.0398 - accuracy: 0.9873 - val_loss: 0.0355 - val_accuracy: 0.9896\n",
      "Epoch 7/25\n",
      "192/192 [==============================] - 69s 357ms/step - loss: 0.0358 - accuracy: 0.9885 - val_loss: 0.0331 - val_accuracy: 0.9896\n",
      "Epoch 8/25\n",
      "192/192 [==============================] - 51s 268ms/step - loss: 0.0314 - accuracy: 0.9896 - val_loss: 0.0359 - val_accuracy: 0.9888\n",
      "Epoch 9/25\n",
      "192/192 [==============================] - 52s 271ms/step - loss: 0.0277 - accuracy: 0.9912 - val_loss: 0.0333 - val_accuracy: 0.9913\n",
      "Epoch 10/25\n",
      "192/192 [==============================] - 54s 282ms/step - loss: 0.0244 - accuracy: 0.9922 - val_loss: 0.0328 - val_accuracy: 0.9905\n",
      "Epoch 11/25\n",
      "192/192 [==============================] - 65s 337ms/step - loss: 0.0220 - accuracy: 0.9928 - val_loss: 0.0309 - val_accuracy: 0.9916\n",
      "Epoch 12/25\n",
      "192/192 [==============================] - 54s 280ms/step - loss: 0.0188 - accuracy: 0.9937 - val_loss: 0.0344 - val_accuracy: 0.9904\n",
      "Epoch 13/25\n",
      "192/192 [==============================] - 64s 331ms/step - loss: 0.0172 - accuracy: 0.9942 - val_loss: 0.0292 - val_accuracy: 0.9918\n",
      "Epoch 14/25\n",
      "192/192 [==============================] - 50s 261ms/step - loss: 0.0169 - accuracy: 0.9944 - val_loss: 0.0276 - val_accuracy: 0.9924\n",
      "Epoch 15/25\n",
      "192/192 [==============================] - 47s 246ms/step - loss: 0.0142 - accuracy: 0.9951 - val_loss: 0.0299 - val_accuracy: 0.9918\n",
      "Epoch 16/25\n",
      "192/192 [==============================] - 52s 273ms/step - loss: 0.0129 - accuracy: 0.9955 - val_loss: 0.0316 - val_accuracy: 0.9908\n",
      "Epoch 17/25\n",
      "192/192 [==============================] - 52s 270ms/step - loss: 0.0121 - accuracy: 0.9958 - val_loss: 0.0298 - val_accuracy: 0.9920\n",
      "Epoch 18/25\n",
      "192/192 [==============================] - 52s 271ms/step - loss: 0.0121 - accuracy: 0.9958 - val_loss: 0.0289 - val_accuracy: 0.9931\n",
      "Epoch 19/25\n",
      "192/192 [==============================] - 78s 406ms/step - loss: 0.0104 - accuracy: 0.9963 - val_loss: 0.0336 - val_accuracy: 0.9912\n",
      "Epoch 20/25\n",
      "192/192 [==============================] - 64s 333ms/step - loss: 0.0108 - accuracy: 0.9965 - val_loss: 0.0317 - val_accuracy: 0.9921\n",
      "Epoch 21/25\n",
      "192/192 [==============================] - 67s 347ms/step - loss: 0.0091 - accuracy: 0.9965 - val_loss: 0.0337 - val_accuracy: 0.9918\n",
      "Epoch 22/25\n",
      "192/192 [==============================] - 65s 338ms/step - loss: 0.0099 - accuracy: 0.9967 - val_loss: 0.0316 - val_accuracy: 0.9912\n",
      "Epoch 23/25\n",
      "192/192 [==============================] - 50s 263ms/step - loss: 0.0079 - accuracy: 0.9973 - val_loss: 0.0373 - val_accuracy: 0.9918\n",
      "Epoch 24/25\n",
      "192/192 [==============================] - 71s 371ms/step - loss: 0.0087 - accuracy: 0.9969 - val_loss: 0.0383 - val_accuracy: 0.9902\n",
      "Epoch 25/25\n",
      "192/192 [==============================] - 68s 353ms/step - loss: 0.0078 - accuracy: 0.9971 - val_loss: 0.0408 - val_accuracy: 0.9902\n"
     ]
    },
    {
     "data": {
      "text/plain": [
       "<keras.callbacks.History at 0x7f9f933630a0>"
      ]
     },
     "execution_count": 8,
     "metadata": {},
     "output_type": "execute_result"
    }
   ],
   "source": [
    "# Fit data to model\n",
    "model.fit(input_train, target_train,\n",
    "          batch_size=batch_size,\n",
    "          epochs=no_epochs,\n",
    "          verbose=verbosity,\n",
    "          validation_split=validation_split)"
   ]
  },
  {
   "cell_type": "code",
   "execution_count": 9,
   "id": "c7f6e474",
   "metadata": {},
   "outputs": [
    {
     "name": "stdout",
     "output_type": "stream",
     "text": [
      "Test loss: 0.03579787164926529 / Test accuracy: 0.9908999800682068\n"
     ]
    }
   ],
   "source": [
    "##### Report the test accuracy of your model.\n",
    "# Generate generalization metrics\n",
    "score = model.evaluate(input_test, target_test, verbose=0)\n",
    "print(f'Test loss: {score[0]} / Test accuracy: {score[1]}')"
   ]
  },
  {
   "cell_type": "code",
   "execution_count": 34,
   "id": "7f0edf55",
   "metadata": {},
   "outputs": [
    {
     "name": "stdout",
     "output_type": "stream",
     "text": [
      "313/313 [==============================] - 3s 11ms/step\n"
     ]
    },
    {
     "ename": "ValueError",
     "evalue": "Classification metrics can't handle a mix of unknown and continuous-multioutput targets",
     "output_type": "error",
     "traceback": [
      "\u001b[0;31m---------------------------------------------------------------------------\u001b[0m",
      "\u001b[0;31mValueError\u001b[0m                                Traceback (most recent call last)",
      "\u001b[0;32m/var/folders/jd/05jr366d0jn13pfs71x7v06w0000gn/T/ipykernel_7081/2826642880.py\u001b[0m in \u001b[0;36m<module>\u001b[0;34m\u001b[0m\n\u001b[1;32m      3\u001b[0m \u001b[0;34m\u001b[0m\u001b[0m\n\u001b[1;32m      4\u001b[0m \u001b[0;31m# Compute confusion matrix\u001b[0m\u001b[0;34m\u001b[0m\u001b[0;34m\u001b[0m\u001b[0m\n\u001b[0;32m----> 5\u001b[0;31m \u001b[0mconfusion\u001b[0m \u001b[0;34m=\u001b[0m \u001b[0mconfusion_matrix\u001b[0m\u001b[0;34m(\u001b[0m\u001b[0minput_test\u001b[0m\u001b[0;34m,\u001b[0m \u001b[0mtest_predictions\u001b[0m\u001b[0;34m)\u001b[0m\u001b[0;34m\u001b[0m\u001b[0;34m\u001b[0m\u001b[0m\n\u001b[0m",
      "\u001b[0;32m~/opt/anaconda3/lib/python3.9/site-packages/sklearn/utils/validation.py\u001b[0m in \u001b[0;36minner_f\u001b[0;34m(*args, **kwargs)\u001b[0m\n\u001b[1;32m     61\u001b[0m             \u001b[0mextra_args\u001b[0m \u001b[0;34m=\u001b[0m \u001b[0mlen\u001b[0m\u001b[0;34m(\u001b[0m\u001b[0margs\u001b[0m\u001b[0;34m)\u001b[0m \u001b[0;34m-\u001b[0m \u001b[0mlen\u001b[0m\u001b[0;34m(\u001b[0m\u001b[0mall_args\u001b[0m\u001b[0;34m)\u001b[0m\u001b[0;34m\u001b[0m\u001b[0;34m\u001b[0m\u001b[0m\n\u001b[1;32m     62\u001b[0m             \u001b[0;32mif\u001b[0m \u001b[0mextra_args\u001b[0m \u001b[0;34m<=\u001b[0m \u001b[0;36m0\u001b[0m\u001b[0;34m:\u001b[0m\u001b[0;34m\u001b[0m\u001b[0;34m\u001b[0m\u001b[0m\n\u001b[0;32m---> 63\u001b[0;31m                 \u001b[0;32mreturn\u001b[0m \u001b[0mf\u001b[0m\u001b[0;34m(\u001b[0m\u001b[0;34m*\u001b[0m\u001b[0margs\u001b[0m\u001b[0;34m,\u001b[0m \u001b[0;34m**\u001b[0m\u001b[0mkwargs\u001b[0m\u001b[0;34m)\u001b[0m\u001b[0;34m\u001b[0m\u001b[0;34m\u001b[0m\u001b[0m\n\u001b[0m\u001b[1;32m     64\u001b[0m \u001b[0;34m\u001b[0m\u001b[0m\n\u001b[1;32m     65\u001b[0m             \u001b[0;31m# extra_args > 0\u001b[0m\u001b[0;34m\u001b[0m\u001b[0;34m\u001b[0m\u001b[0m\n",
      "\u001b[0;32m~/opt/anaconda3/lib/python3.9/site-packages/sklearn/metrics/_classification.py\u001b[0m in \u001b[0;36mconfusion_matrix\u001b[0;34m(y_true, y_pred, labels, sample_weight, normalize)\u001b[0m\n\u001b[1;32m    297\u001b[0m \u001b[0;34m\u001b[0m\u001b[0m\n\u001b[1;32m    298\u001b[0m     \"\"\"\n\u001b[0;32m--> 299\u001b[0;31m     \u001b[0my_type\u001b[0m\u001b[0;34m,\u001b[0m \u001b[0my_true\u001b[0m\u001b[0;34m,\u001b[0m \u001b[0my_pred\u001b[0m \u001b[0;34m=\u001b[0m \u001b[0m_check_targets\u001b[0m\u001b[0;34m(\u001b[0m\u001b[0my_true\u001b[0m\u001b[0;34m,\u001b[0m \u001b[0my_pred\u001b[0m\u001b[0;34m)\u001b[0m\u001b[0;34m\u001b[0m\u001b[0;34m\u001b[0m\u001b[0m\n\u001b[0m\u001b[1;32m    300\u001b[0m     \u001b[0;32mif\u001b[0m \u001b[0my_type\u001b[0m \u001b[0;32mnot\u001b[0m \u001b[0;32min\u001b[0m \u001b[0;34m(\u001b[0m\u001b[0;34m\"binary\"\u001b[0m\u001b[0;34m,\u001b[0m \u001b[0;34m\"multiclass\"\u001b[0m\u001b[0;34m)\u001b[0m\u001b[0;34m:\u001b[0m\u001b[0;34m\u001b[0m\u001b[0;34m\u001b[0m\u001b[0m\n\u001b[1;32m    301\u001b[0m         \u001b[0;32mraise\u001b[0m \u001b[0mValueError\u001b[0m\u001b[0;34m(\u001b[0m\u001b[0;34m\"%s is not supported\"\u001b[0m \u001b[0;34m%\u001b[0m \u001b[0my_type\u001b[0m\u001b[0;34m)\u001b[0m\u001b[0;34m\u001b[0m\u001b[0;34m\u001b[0m\u001b[0m\n",
      "\u001b[0;32m~/opt/anaconda3/lib/python3.9/site-packages/sklearn/metrics/_classification.py\u001b[0m in \u001b[0;36m_check_targets\u001b[0;34m(y_true, y_pred)\u001b[0m\n\u001b[1;32m     90\u001b[0m \u001b[0;34m\u001b[0m\u001b[0m\n\u001b[1;32m     91\u001b[0m     \u001b[0;32mif\u001b[0m \u001b[0mlen\u001b[0m\u001b[0;34m(\u001b[0m\u001b[0my_type\u001b[0m\u001b[0;34m)\u001b[0m \u001b[0;34m>\u001b[0m \u001b[0;36m1\u001b[0m\u001b[0;34m:\u001b[0m\u001b[0;34m\u001b[0m\u001b[0;34m\u001b[0m\u001b[0m\n\u001b[0;32m---> 92\u001b[0;31m         raise ValueError(\"Classification metrics can't handle a mix of {0} \"\n\u001b[0m\u001b[1;32m     93\u001b[0m                          \"and {1} targets\".format(type_true, type_pred))\n\u001b[1;32m     94\u001b[0m \u001b[0;34m\u001b[0m\u001b[0m\n",
      "\u001b[0;31mValueError\u001b[0m: Classification metrics can't handle a mix of unknown and continuous-multioutput targets"
     ]
    }
   ],
   "source": [
    "from sklearn.metrics import confusion_matrix\n",
    "test_predictions = model.predict(input_test)\n",
    "\n",
    "input_test = input_test.astype('float32')\n",
    "# Compute confusion matrix\n",
    "confusion = confusion_matrix(input_test, test_predictions)"
   ]
  },
  {
   "cell_type": "code",
   "execution_count": null,
   "id": "687d045d",
   "metadata": {},
   "outputs": [],
   "source": [
    "the model has achieved a validation accuracy of approximately 99.1%.\n",
    "in most of the cases, the model was successful in predicting the number that was input to the network. \n",
    "Model loss is even better than during training!"
   ]
  }
 ],
 "metadata": {
  "kernelspec": {
   "display_name": "Python 3 (ipykernel)",
   "language": "python",
   "name": "python3"
  },
  "language_info": {
   "codemirror_mode": {
    "name": "ipython",
    "version": 3
   },
   "file_extension": ".py",
   "mimetype": "text/x-python",
   "name": "python",
   "nbconvert_exporter": "python",
   "pygments_lexer": "ipython3",
   "version": "3.9.7"
  }
 },
 "nbformat": 4,
 "nbformat_minor": 5
}
